{
 "cells": [
  {
   "cell_type": "code",
   "execution_count": 1,
   "metadata": {
    "colab": {
     "base_uri": "https://localhost:8080/"
    },
    "id": "6mUrYQR429Ff",
    "outputId": "552b0308-001a-4cbd-cf14-019556624cfb"
   },
   "outputs": [
    {
     "name": "stdout",
     "output_type": "stream",
     "text": [
      "Mounted at /content/drive\n"
     ]
    }
   ],
   "source": [
    "from google.colab import drive\n",
    "drive.mount('/content/drive')"
   ]
  },
  {
   "cell_type": "code",
   "execution_count": 2,
   "metadata": {
    "colab": {
     "base_uri": "https://localhost:8080/"
    },
    "id": "F6NT2vHxknCe",
    "outputId": "d06bfb7e-8664-4cc0-a973-85e3c56ff4c7"
   },
   "outputs": [
    {
     "name": "stdout",
     "output_type": "stream",
     "text": [
      "Collecting surprise\n",
      "  Downloading surprise-0.1-py2.py3-none-any.whl (1.8 kB)\n",
      "Collecting scikit-surprise\n",
      "  Downloading scikit-surprise-1.1.1.tar.gz (11.8 MB)\n",
      "\u001b[K     |████████████████████████████████| 11.8 MB 12.4 MB/s \n",
      "\u001b[?25hRequirement already satisfied: joblib>=0.11 in /usr/local/lib/python3.7/dist-packages (from scikit-surprise->surprise) (1.0.1)\n",
      "Requirement already satisfied: numpy>=1.11.2 in /usr/local/lib/python3.7/dist-packages (from scikit-surprise->surprise) (1.19.5)\n",
      "Requirement already satisfied: scipy>=1.0.0 in /usr/local/lib/python3.7/dist-packages (from scikit-surprise->surprise) (1.4.1)\n",
      "Requirement already satisfied: six>=1.10.0 in /usr/local/lib/python3.7/dist-packages (from scikit-surprise->surprise) (1.15.0)\n",
      "Building wheels for collected packages: scikit-surprise\n",
      "  Building wheel for scikit-surprise (setup.py) ... \u001b[?25l\u001b[?25hdone\n",
      "  Created wheel for scikit-surprise: filename=scikit_surprise-1.1.1-cp37-cp37m-linux_x86_64.whl size=1619391 sha256=89c12f8acb7931bdeac94c83143061efa5d97cfce3fff8d7280cbae9ff5fe967\n",
      "  Stored in directory: /root/.cache/pip/wheels/76/44/74/b498c42be47b2406bd27994e16c5188e337c657025ab400c1c\n",
      "Successfully built scikit-surprise\n",
      "Installing collected packages: scikit-surprise, surprise\n",
      "Successfully installed scikit-surprise-1.1.1 surprise-0.1\n"
     ]
    }
   ],
   "source": [
    "pip install surprise"
   ]
  },
  {
   "cell_type": "code",
   "execution_count": 3,
   "metadata": {
    "id": "aqmihG9O4ydB"
   },
   "outputs": [],
   "source": [
    "from datetime import datetime\n",
    "import pandas as pd\n",
    "import numpy as np\n",
    "import seaborn as sns\n",
    "sns.set_style(\"whitegrid\")\n",
    "import os\n",
    "import random\n",
    "import matplotlib\n",
    "import matplotlib.pyplot as plt\n",
    "%matplotlib inline\n",
    "from scipy import sparse\n",
    "from sklearn.metrics.pairwise import cosine_similarity\n",
    "from sklearn.metrics import mean_squared_error\n",
    "\n",
    "\n",
    "import xgboost as xgb\n",
    "from surprise import Reader, Dataset\n",
    "from surprise import BaselineOnly\n",
    "from surprise import KNNBaseline\n",
    "from surprise import SVD\n",
    "from surprise import accuracy\n",
    "from surprise import SVDpp\n",
    "from surprise.model_selection import train_test_split\n",
    "from surprise.model_selection import GridSearchCV\n"
   ]
  },
  {
   "cell_type": "code",
   "execution_count": 4,
   "metadata": {
    "id": "G09Sj7XS5jN3"
   },
   "outputs": [],
   "source": [
    "df = pd.read_csv(\"/content/drive/MyDrive/NetflixProject/Netflix/archive/NetflixRatings.csv\", sep=\",\", names = [\"MovieID\",\"CustID\", \"Ratings\", \"Date\"])\n",
    "df[\"Date\"] = pd.to_datetime(df[\"Date\"])\n",
    "df_movie=pd.read_csv('/content/drive/MyDrive/Netflix/Data/additions/updated_movie_titles.csv')\n",
    "\n",
    "ID_values=df_movie[df_movie['Year'].isnull()].ID.values\n",
    "years=[]\n",
    "for i in ID_values:\n",
    "  temp=df[df['MovieID']==i].sort_values('Date').iloc[0]\n",
    "  years.append(temp.Date.year)\n",
    "temp1=df_movie[df_movie['Year'].isnull()]\n",
    "count=0\n",
    "for i in years:\n",
    "  temp1.Year.values[count]=i\n",
    "  count=count+1\n",
    "df_movie.dropna(inplace=True)\n",
    "df_movie=pd.concat([df_movie,temp1])\n",
    "df_movie.sort_index(inplace=True)\n",
    "df_movie.rename(columns = {'ID':'MovieID'}, inplace = True)"
   ]
  },
  {
   "cell_type": "code",
   "execution_count": 5,
   "metadata": {
    "id": "A44ZIVyslZO2"
   },
   "outputs": [],
   "source": [
    "dfnew=df.copy()"
   ]
  },
  {
   "cell_type": "code",
   "execution_count": 6,
   "metadata": {
    "colab": {
     "base_uri": "https://localhost:8080/",
     "height": 206
    },
    "id": "SRf4Z_Izm05W",
    "outputId": "1670306d-3e80-44d0-fb0d-593062ea6ca8"
   },
   "outputs": [
    {
     "data": {
      "text/html": [
       "<div>\n",
       "<style scoped>\n",
       "    .dataframe tbody tr th:only-of-type {\n",
       "        vertical-align: middle;\n",
       "    }\n",
       "\n",
       "    .dataframe tbody tr th {\n",
       "        vertical-align: top;\n",
       "    }\n",
       "\n",
       "    .dataframe thead th {\n",
       "        text-align: right;\n",
       "    }\n",
       "</style>\n",
       "<table border=\"1\" class=\"dataframe\">\n",
       "  <thead>\n",
       "    <tr style=\"text-align: right;\">\n",
       "      <th></th>\n",
       "      <th>MovieID</th>\n",
       "      <th>CustID</th>\n",
       "      <th>Ratings</th>\n",
       "      <th>Date</th>\n",
       "      <th>Year</th>\n",
       "      <th>Name</th>\n",
       "    </tr>\n",
       "  </thead>\n",
       "  <tbody>\n",
       "    <tr>\n",
       "      <th>0</th>\n",
       "      <td>1</td>\n",
       "      <td>1488844</td>\n",
       "      <td>3</td>\n",
       "      <td>2005-09-06</td>\n",
       "      <td>2003.0</td>\n",
       "      <td>Dinosaur Planet</td>\n",
       "    </tr>\n",
       "    <tr>\n",
       "      <th>1</th>\n",
       "      <td>1</td>\n",
       "      <td>822109</td>\n",
       "      <td>5</td>\n",
       "      <td>2005-05-13</td>\n",
       "      <td>2003.0</td>\n",
       "      <td>Dinosaur Planet</td>\n",
       "    </tr>\n",
       "    <tr>\n",
       "      <th>2</th>\n",
       "      <td>1</td>\n",
       "      <td>885013</td>\n",
       "      <td>4</td>\n",
       "      <td>2005-10-19</td>\n",
       "      <td>2003.0</td>\n",
       "      <td>Dinosaur Planet</td>\n",
       "    </tr>\n",
       "    <tr>\n",
       "      <th>3</th>\n",
       "      <td>1</td>\n",
       "      <td>30878</td>\n",
       "      <td>4</td>\n",
       "      <td>2005-12-26</td>\n",
       "      <td>2003.0</td>\n",
       "      <td>Dinosaur Planet</td>\n",
       "    </tr>\n",
       "    <tr>\n",
       "      <th>4</th>\n",
       "      <td>1</td>\n",
       "      <td>823519</td>\n",
       "      <td>3</td>\n",
       "      <td>2004-05-03</td>\n",
       "      <td>2003.0</td>\n",
       "      <td>Dinosaur Planet</td>\n",
       "    </tr>\n",
       "  </tbody>\n",
       "</table>\n",
       "</div>"
      ],
      "text/plain": [
       "   MovieID   CustID  Ratings       Date    Year             Name\n",
       "0        1  1488844        3 2005-09-06  2003.0  Dinosaur Planet\n",
       "1        1   822109        5 2005-05-13  2003.0  Dinosaur Planet\n",
       "2        1   885013        4 2005-10-19  2003.0  Dinosaur Planet\n",
       "3        1    30878        4 2005-12-26  2003.0  Dinosaur Planet\n",
       "4        1   823519        3 2004-05-03  2003.0  Dinosaur Planet"
      ]
     },
     "execution_count": 6,
     "metadata": {},
     "output_type": "execute_result"
    }
   ],
   "source": [
    "dfnew=dfnew.merge(df_movie,on='MovieID')\n",
    "dfnew.head()"
   ]
  },
  {
   "cell_type": "code",
   "execution_count": 7,
   "metadata": {
    "id": "0obUh37uDbbe"
   },
   "outputs": [],
   "source": [
    "from sklearn.model_selection import train_test_split"
   ]
  },
  {
   "cell_type": "code",
   "execution_count": 8,
   "metadata": {
    "id": "fo8NhDgW7qpD"
   },
   "outputs": [],
   "source": [
    "data_sample=dfnew.sample(200000)"
   ]
  },
  {
   "cell_type": "code",
   "execution_count": 9,
   "metadata": {
    "id": "mLDB5FCcD4KJ"
   },
   "outputs": [],
   "source": [
    "train,test = train_test_split(data_sample[['CustID','MovieID','Ratings']], test_size=0.05)"
   ]
  },
  {
   "cell_type": "code",
   "execution_count": 10,
   "metadata": {
    "colab": {
     "base_uri": "https://localhost:8080/"
    },
    "id": "S04-C0T6FnY2",
    "outputId": "e61dc058-0918-4b7a-9e30-9797feb8e552"
   },
   "outputs": [
    {
     "data": {
      "text/plain": [
       "(190000, 3)"
      ]
     },
     "execution_count": 10,
     "metadata": {},
     "output_type": "execute_result"
    }
   ],
   "source": [
    "train.shape"
   ]
  },
  {
   "cell_type": "code",
   "execution_count": 11,
   "metadata": {
    "colab": {
     "base_uri": "https://localhost:8080/"
    },
    "id": "eUpMswudGNan",
    "outputId": "c77d3d21-f781-4f6e-ef2f-66f76a219905"
   },
   "outputs": [
    {
     "data": {
      "text/plain": [
       "(10000, 3)"
      ]
     },
     "execution_count": 11,
     "metadata": {},
     "output_type": "execute_result"
    }
   ],
   "source": [
    "test.shape"
   ]
  },
  {
   "cell_type": "code",
   "execution_count": 12,
   "metadata": {
    "colab": {
     "base_uri": "https://localhost:8080/",
     "height": 206
    },
    "id": "3MRrV6UjGS1z",
    "outputId": "0c428716-27f9-41c4-8fd1-916d6a029604"
   },
   "outputs": [
    {
     "data": {
      "text/html": [
       "<div>\n",
       "<style scoped>\n",
       "    .dataframe tbody tr th:only-of-type {\n",
       "        vertical-align: middle;\n",
       "    }\n",
       "\n",
       "    .dataframe tbody tr th {\n",
       "        vertical-align: top;\n",
       "    }\n",
       "\n",
       "    .dataframe thead th {\n",
       "        text-align: right;\n",
       "    }\n",
       "</style>\n",
       "<table border=\"1\" class=\"dataframe\">\n",
       "  <thead>\n",
       "    <tr style=\"text-align: right;\">\n",
       "      <th></th>\n",
       "      <th>CustID</th>\n",
       "      <th>MovieID</th>\n",
       "      <th>Ratings</th>\n",
       "    </tr>\n",
       "  </thead>\n",
       "  <tbody>\n",
       "    <tr>\n",
       "      <th>59223435</th>\n",
       "      <td>575455</td>\n",
       "      <td>10894</td>\n",
       "      <td>5</td>\n",
       "    </tr>\n",
       "    <tr>\n",
       "      <th>36337356</th>\n",
       "      <td>583656</td>\n",
       "      <td>6450</td>\n",
       "      <td>4</td>\n",
       "    </tr>\n",
       "    <tr>\n",
       "      <th>98453556</th>\n",
       "      <td>441442</td>\n",
       "      <td>17361</td>\n",
       "      <td>4</td>\n",
       "    </tr>\n",
       "    <tr>\n",
       "      <th>88380236</th>\n",
       "      <td>269827</td>\n",
       "      <td>15730</td>\n",
       "      <td>1</td>\n",
       "    </tr>\n",
       "    <tr>\n",
       "      <th>35332671</th>\n",
       "      <td>775026</td>\n",
       "      <td>6307</td>\n",
       "      <td>4</td>\n",
       "    </tr>\n",
       "  </tbody>\n",
       "</table>\n",
       "</div>"
      ],
      "text/plain": [
       "          CustID  MovieID  Ratings\n",
       "59223435  575455    10894        5\n",
       "36337356  583656     6450        4\n",
       "98453556  441442    17361        4\n",
       "88380236  269827    15730        1\n",
       "35332671  775026     6307        4"
      ]
     },
     "execution_count": 12,
     "metadata": {},
     "output_type": "execute_result"
    }
   ],
   "source": [
    "train.head()"
   ]
  },
  {
   "cell_type": "markdown",
   "metadata": {
    "id": "Hfg74o0Etvo7"
   },
   "source": [
    "Sparse matrix\n"
   ]
  },
  {
   "cell_type": "code",
   "execution_count": 13,
   "metadata": {
    "id": "cHo61wc368Rm"
   },
   "outputs": [],
   "source": [
    "# Creating a train sparse matrix\n",
    "train_sparse_matrix = sparse.csr_matrix((train.Ratings.values, (train.CustID.values, train.MovieID.values)))"
   ]
  },
  {
   "cell_type": "code",
   "execution_count": 14,
   "metadata": {
    "colab": {
     "base_uri": "https://localhost:8080/"
    },
    "id": "wqYqN4uyzX7n",
    "outputId": "8fd33e91-4a77-4f5f-d1d5-e286854ec674"
   },
   "outputs": [
    {
     "name": "stdout",
     "output_type": "stream",
     "text": [
      "Sparsity Of Train matrix : 99.99959643432985% \n"
     ]
    }
   ],
   "source": [
    "rows,cols = train_sparse_matrix.shape\n",
    "presentElements = train_sparse_matrix.count_nonzero()\n",
    "\n",
    "print(\"Sparsity Of Train matrix : {}% \".format((1-(presentElements/(rows*cols)))*100))"
   ]
  },
  {
   "cell_type": "code",
   "execution_count": 15,
   "metadata": {
    "colab": {
     "base_uri": "https://localhost:8080/"
    },
    "id": "uiziZ7AG4IQQ",
    "outputId": "f6c978cb-1be9-4beb-9967-fef41c7edc6e"
   },
   "outputs": [
    {
     "data": {
      "text/plain": [
       "(2649427, 17770)"
      ]
     },
     "execution_count": 15,
     "metadata": {},
     "output_type": "execute_result"
    }
   ],
   "source": [
    "train_sparse_matrix.shape"
   ]
  },
  {
   "cell_type": "code",
   "execution_count": 16,
   "metadata": {
    "id": "VTv7cxyi8jxI"
   },
   "outputs": [],
   "source": [
    "# Creating a test sparse matrix\n",
    "test_sparse_matrix = sparse.csr_matrix((test.Ratings.values, (test.CustID.values, test.MovieID.values)))"
   ]
  },
  {
   "cell_type": "code",
   "execution_count": 17,
   "metadata": {
    "colab": {
     "base_uri": "https://localhost:8080/"
    },
    "id": "LVWHs-tDzalc",
    "outputId": "3efa8a76-b3d5-410b-8123-956db25a46bb"
   },
   "outputs": [
    {
     "name": "stdout",
     "output_type": "stream",
     "text": [
      "Sparsity Of Train matrix : 99.99997875244831% \n"
     ]
    }
   ],
   "source": [
    "rows,cols = test_sparse_matrix.shape\n",
    "presentElements = test_sparse_matrix.count_nonzero()\n",
    "\n",
    "print(\"Sparsity Of Train matrix : {}% \".format((1-(presentElements/(rows*cols)))*100))"
   ]
  },
  {
   "cell_type": "code",
   "execution_count": 18,
   "metadata": {
    "colab": {
     "base_uri": "https://localhost:8080/"
    },
    "id": "XNrJVLHB88wa",
    "outputId": "becdca28-81d4-4d17-9a5f-7d72c3ca1728"
   },
   "outputs": [
    {
     "data": {
      "text/plain": [
       "(2649268, 17765)"
      ]
     },
     "execution_count": 18,
     "metadata": {},
     "output_type": "execute_result"
    }
   ],
   "source": [
    "test_sparse_matrix.shape"
   ]
  },
  {
   "cell_type": "code",
   "execution_count": 19,
   "metadata": {
    "colab": {
     "base_uri": "https://localhost:8080/"
    },
    "id": "9z409UBN9A4z",
    "outputId": "7dc99489-7f9c-4c4e-9234-b4ebea3afb85"
   },
   "outputs": [
    {
     "data": {
      "text/plain": [
       "3.6020263157894736"
      ]
     },
     "execution_count": 19,
     "metadata": {},
     "output_type": "execute_result"
    }
   ],
   "source": [
    "# get the global average of ratings in our train set.\n",
    "train_global_average = train_sparse_matrix.sum()/train_sparse_matrix.count_nonzero()\n",
    "train_global_average"
   ]
  },
  {
   "cell_type": "code",
   "execution_count": 20,
   "metadata": {
    "id": "9FoCPG-K-o6f"
   },
   "outputs": [],
   "source": [
    "# get the user averages in dictionary (key: user_id/movie_id, value: avg rating)\n",
    "def getAverageRatings(sparseMatrix, if_user):\n",
    "    ax = 1 if if_user else 0\n",
    "    #axis = 1 means rows and axis = 0 means columns \n",
    "    sumOfRatings = sparseMatrix.sum(axis = ax).A1  #this will give an array of sum of all the ratings of user if axis = 1 else \n",
    "    #sum of all the ratings of movies if axis = 0\n",
    "    noOfRatings = (sparseMatrix!=0).sum(axis = ax).A1  #this will give a boolean True or False array, and True means 1 and False \n",
    "    #means 0, and further we are summing it to get the count of all the non-zero cells means length of non-zero cells\n",
    "    rows, cols = sparseMatrix.shape\n",
    "    averageRatings = {i: sumOfRatings[i]/noOfRatings[i] for i in range(rows if if_user else cols) if noOfRatings[i]!=0}\n",
    "    return averageRatings"
   ]
  },
  {
   "cell_type": "code",
   "execution_count": 21,
   "metadata": {
    "id": "UfWJeMC-_EGm"
   },
   "outputs": [],
   "source": [
    "AvgRatingUser = getAverageRatings(train_sparse_matrix, if_user=True)"
   ]
  },
  {
   "cell_type": "code",
   "execution_count": 22,
   "metadata": {
    "id": "F5L2dqVq_Tva"
   },
   "outputs": [],
   "source": [
    "AvgRatingMovie = getAverageRatings(train_sparse_matrix, if_user=False)"
   ]
  },
  {
   "cell_type": "code",
   "execution_count": 23,
   "metadata": {
    "colab": {
     "base_uri": "https://localhost:8080/"
    },
    "id": "V8KGsNHeOw5t",
    "outputId": "4ec3b40c-c6fd-48a9-c0cf-c8fa91542f6f"
   },
   "outputs": [
    {
     "name": "stdout",
     "output_type": "stream",
     "text": [
      "No of ratings in Our Sampled train matrix is : 190000\n",
      "No of ratings in Our Sampled test matrix is : 10000\n"
     ]
    }
   ],
   "source": [
    "print(\"No of ratings in Our Sampled train matrix is : {}\".format(train_sparse_matrix.count_nonzero()))\n",
    "print(\"No of ratings in Our Sampled test matrix is : {}\".format(test_sparse_matrix.count_nonzero()))"
   ]
  },
  {
   "cell_type": "code",
   "execution_count": 24,
   "metadata": {
    "id": "RE6sOqAcTnhM"
   },
   "outputs": [],
   "source": [
    "train_users,train_movies,train_ratings = sparse.find(train_sparse_matrix)"
   ]
  },
  {
   "cell_type": "code",
   "execution_count": 25,
   "metadata": {
    "colab": {
     "base_uri": "https://localhost:8080/"
    },
    "id": "RJNjNOXrViDO",
    "outputId": "522a51de-d6ad-461b-aec7-30f092c1a131"
   },
   "outputs": [
    {
     "name": "stdout",
     "output_type": "stream",
     "text": [
      "Preparing Train csv file for 190000 rows\n",
      "Done for 10000. Time elapsed: 0:13:29.155361\n",
      "Done for 20000. Time elapsed: 0:26:14.826474\n",
      "Done for 30000. Time elapsed: 0:39:04.369905\n",
      "Done for 40000. Time elapsed: 0:54:02.193159\n",
      "Done for 50000. Time elapsed: 1:09:01.147327\n",
      "Done for 60000. Time elapsed: 1:24:13.741894\n",
      "Done for 70000. Time elapsed: 1:38:36.344716\n",
      "Done for 80000. Time elapsed: 1:53:10.959486\n",
      "Done for 90000. Time elapsed: 2:08:02.372889\n",
      "Done for 100000. Time elapsed: 2:22:55.115538\n",
      "Done for 110000. Time elapsed: 2:37:45.427080\n",
      "Done for 120000. Time elapsed: 2:52:30.449523\n",
      "Done for 130000. Time elapsed: 3:07:11.926259\n",
      "Done for 140000. Time elapsed: 3:21:09.437634\n",
      "Done for 150000. Time elapsed: 3:35:11.515889\n",
      "Done for 160000. Time elapsed: 3:49:28.235676\n",
      "Done for 170000. Time elapsed: 4:03:27.368980\n",
      "Done for 180000. Time elapsed: 4:17:16.292131\n",
      "Done for 190000. Time elapsed: 4:31:38.359581\n",
      "Total Time for 190000 rows = 4:31:38.362469\n"
     ]
    }
   ],
   "source": [
    "startTime = datetime.now()\n",
    "print(\"Preparing Train csv file for {} rows\".format(len(train_ratings)))\n",
    "Train_Reg=pd.DataFrame(columns=[\"User_ID\", \"Movie_ID\", \"Global_Average\", \"SMR1\", \"SMR2\", \"SMR3\", \"SMR4\", \"SMR5\", \"User_Average\", \"Movie_Average\", \"Rating\"])\n",
    "#with open(\"/content/drive/MyDrive/NetflixProject/Netflix/archive\", mode = \"w\") as data:\n",
    "count = 0\n",
    "for user, movie, rating in zip(train_users, train_movies, train_ratings):\n",
    "            row = list()\n",
    "            row.append(user)  #appending user ID\n",
    "            row.append(movie) #appending movie ID\n",
    "            row.append(train_sparse_matrix.sum()/train_sparse_matrix.count_nonzero()) #appending global average rating\n",
    "\n",
    "            \n",
    " #----------------------------------Ratings given by \"user\" to top 5 similar movies with \"movie\"------------------#\n",
    "            similar_movies = cosine_similarity(train_sparse_matrix[:,movie].T, train_sparse_matrix.T).ravel()\n",
    "            similar_movies_indices = np.argsort(-similar_movies)[1:]\n",
    "            similar_movies_ratings = train_sparse_matrix[user, similar_movies_indices].toarray().ravel()\n",
    "            top_similar_movie_ratings = list(similar_movies_ratings[similar_movies_ratings != 0][:5])\n",
    "            top_similar_movie_ratings.extend([AvgRatingUser[user]]*(5-len(top_similar_movie_ratings)))\n",
    "            #above line means that if top 5 ratings are not available then rest of the ratings will be filled by \"user\" average\n",
    "            #rating. Let say only 3 out of 5 ratings are available then rest 2 will be \"user\" average rating.\n",
    "            row.extend(top_similar_movie_ratings)\n",
    "            \n",
    " #----------------------------------Appending \"user\" average, \"movie\" average & rating of \"user\"\"movie\"-----------#\n",
    "            row.append(AvgRatingUser[user])\n",
    "            row.append(AvgRatingMovie[movie])\n",
    "            row.append(rating)\n",
    "            \n",
    "#-----------------------------------Converting rows and appending them as comma separated values to csv file------#\n",
    "            #data.write(\",\".join(map(str, row)))\n",
    "            #data.write(\"\\n\")\n",
    "            Train_Reg.loc[count]=row\n",
    "    \n",
    "            count += 1\n",
    "            if count % 10000 == 0:\n",
    "                print(\"Done for {}. Time elapsed: {}\".format(count, (datetime.now() - startTime)))\n",
    "                \n",
    "print(\"Total Time for {} rows = {}\".format(len(train_ratings), (datetime.now() - startTime)))"
   ]
  },
  {
   "cell_type": "code",
   "execution_count": 26,
   "metadata": {
    "colab": {
     "base_uri": "https://localhost:8080/",
     "height": 206
    },
    "id": "18lFboNFzPIx",
    "outputId": "1aea950d-3b65-4db3-ef34-068cb5e76ead"
   },
   "outputs": [
    {
     "data": {
      "text/html": [
       "<div>\n",
       "<style scoped>\n",
       "    .dataframe tbody tr th:only-of-type {\n",
       "        vertical-align: middle;\n",
       "    }\n",
       "\n",
       "    .dataframe tbody tr th {\n",
       "        vertical-align: top;\n",
       "    }\n",
       "\n",
       "    .dataframe thead th {\n",
       "        text-align: right;\n",
       "    }\n",
       "</style>\n",
       "<table border=\"1\" class=\"dataframe\">\n",
       "  <thead>\n",
       "    <tr style=\"text-align: right;\">\n",
       "      <th></th>\n",
       "      <th>User_ID</th>\n",
       "      <th>Movie_ID</th>\n",
       "      <th>Global_Average</th>\n",
       "      <th>SMR1</th>\n",
       "      <th>SMR2</th>\n",
       "      <th>SMR3</th>\n",
       "      <th>SMR4</th>\n",
       "      <th>SMR5</th>\n",
       "      <th>User_Average</th>\n",
       "      <th>Movie_Average</th>\n",
       "      <th>Rating</th>\n",
       "    </tr>\n",
       "  </thead>\n",
       "  <tbody>\n",
       "    <tr>\n",
       "      <th>0</th>\n",
       "      <td>2031093.0</td>\n",
       "      <td>1.0</td>\n",
       "      <td>3.602026</td>\n",
       "      <td>4.0</td>\n",
       "      <td>4.0</td>\n",
       "      <td>4.0</td>\n",
       "      <td>4.0</td>\n",
       "      <td>4.0</td>\n",
       "      <td>4.0</td>\n",
       "      <td>4.000000</td>\n",
       "      <td>4.0</td>\n",
       "    </tr>\n",
       "    <tr>\n",
       "      <th>1</th>\n",
       "      <td>416805.0</td>\n",
       "      <td>3.0</td>\n",
       "      <td>3.602026</td>\n",
       "      <td>5.0</td>\n",
       "      <td>5.0</td>\n",
       "      <td>5.0</td>\n",
       "      <td>5.0</td>\n",
       "      <td>5.0</td>\n",
       "      <td>5.0</td>\n",
       "      <td>4.333333</td>\n",
       "      <td>5.0</td>\n",
       "    </tr>\n",
       "    <tr>\n",
       "      <th>2</th>\n",
       "      <td>1462330.0</td>\n",
       "      <td>3.0</td>\n",
       "      <td>3.602026</td>\n",
       "      <td>4.0</td>\n",
       "      <td>4.0</td>\n",
       "      <td>4.0</td>\n",
       "      <td>4.0</td>\n",
       "      <td>4.0</td>\n",
       "      <td>4.0</td>\n",
       "      <td>4.333333</td>\n",
       "      <td>4.0</td>\n",
       "    </tr>\n",
       "    <tr>\n",
       "      <th>3</th>\n",
       "      <td>2115337.0</td>\n",
       "      <td>3.0</td>\n",
       "      <td>3.602026</td>\n",
       "      <td>3.0</td>\n",
       "      <td>2.0</td>\n",
       "      <td>3.0</td>\n",
       "      <td>3.0</td>\n",
       "      <td>3.0</td>\n",
       "      <td>3.0</td>\n",
       "      <td>4.333333</td>\n",
       "      <td>4.0</td>\n",
       "    </tr>\n",
       "    <tr>\n",
       "      <th>4</th>\n",
       "      <td>142054.0</td>\n",
       "      <td>5.0</td>\n",
       "      <td>3.602026</td>\n",
       "      <td>5.0</td>\n",
       "      <td>5.0</td>\n",
       "      <td>5.0</td>\n",
       "      <td>5.0</td>\n",
       "      <td>5.0</td>\n",
       "      <td>5.0</td>\n",
       "      <td>4.500000</td>\n",
       "      <td>5.0</td>\n",
       "    </tr>\n",
       "  </tbody>\n",
       "</table>\n",
       "</div>"
      ],
      "text/plain": [
       "     User_ID  Movie_ID  Global_Average  ...  User_Average  Movie_Average  Rating\n",
       "0  2031093.0       1.0        3.602026  ...           4.0       4.000000     4.0\n",
       "1   416805.0       3.0        3.602026  ...           5.0       4.333333     5.0\n",
       "2  1462330.0       3.0        3.602026  ...           4.0       4.333333     4.0\n",
       "3  2115337.0       3.0        3.602026  ...           3.0       4.333333     4.0\n",
       "4   142054.0       5.0        3.602026  ...           5.0       4.500000     5.0\n",
       "\n",
       "[5 rows x 11 columns]"
      ]
     },
     "execution_count": 26,
     "metadata": {},
     "output_type": "execute_result"
    }
   ],
   "source": [
    "Train_Reg.head()"
   ]
  },
  {
   "cell_type": "code",
   "execution_count": 27,
   "metadata": {
    "colab": {
     "base_uri": "https://localhost:8080/"
    },
    "id": "gKWKiQQ5zill",
    "outputId": "7983584b-60cf-4926-fe8d-7fc6c180b9c9"
   },
   "outputs": [
    {
     "name": "stdout",
     "output_type": "stream",
     "text": [
      "Number of nan Values = 0\n"
     ]
    }
   ],
   "source": [
    "print(\"Number of nan Values = \"+str(Train_Reg.isnull().sum().sum()))"
   ]
  },
  {
   "cell_type": "code",
   "execution_count": 28,
   "metadata": {
    "colab": {
     "base_uri": "https://localhost:8080/"
    },
    "id": "lN2LAXoi0Dhd",
    "outputId": "8ea05be8-234b-4d4d-87fa-dec208df66e2"
   },
   "outputs": [
    {
     "name": "stdout",
     "output_type": "stream",
     "text": [
      "Shape of Train DataFrame = (190000, 11)\n"
     ]
    }
   ],
   "source": [
    "print(\"Shape of Train DataFrame = {}\".format(Train_Reg.shape))"
   ]
  },
  {
   "cell_type": "code",
   "execution_count": 29,
   "metadata": {
    "id": "JWXqk0tw0ddf"
   },
   "outputs": [],
   "source": [
    "test_users,test_movies,test_ratings = sparse.find(test_sparse_matrix)"
   ]
  },
  {
   "cell_type": "code",
   "execution_count": 30,
   "metadata": {
    "colab": {
     "base_uri": "https://localhost:8080/"
    },
    "id": "ZZbwmxck0dw7",
    "outputId": "72dd720e-1bf4-47c6-e90a-5ce8016dd300"
   },
   "outputs": [
    {
     "name": "stdout",
     "output_type": "stream",
     "text": [
      "Preparing Test csv file for 10000 rows\n",
      "Done for 5000. Time elapsed: 0:08:23.182852\n",
      "Done for 10000. Time elapsed: 0:16:22.138541\n",
      "Total Time for 10000 rows = 0:16:22.138910\n"
     ]
    }
   ],
   "source": [
    "startTime = datetime.now()\n",
    "print(\"Preparing Test csv file for {} rows\".format(len(test_ratings)))\n",
    "Test_Reg=pd.DataFrame(columns=[\"User_ID\", \"Movie_ID\", \"Global_Average\", \"SMR1\", \"SMR2\", \"SMR3\", \"SMR4\", \"SMR5\", \"User_Average\", \"Movie_Average\", \"Rating\"])\n",
    "#with open(\"/content/drive/MyDrive/NetflixProject/Netflix/archive\", mode = \"w\") as data:\n",
    "count = 0\n",
    "for user, movie, rating in zip(test_users, test_movies, test_ratings):\n",
    "  row = list()\n",
    "  row.append(user)  #appending user ID\n",
    "  row.append(movie) #appending movie ID\n",
    "  row.append(train_sparse_matrix.sum()/train_sparse_matrix.count_nonzero()) #appending global average rating\n",
    "            \n",
    " #----------------------------------Ratings given by \"user\" to top 5 similar movies with \"movie\"------------------#\n",
    "  try:\n",
    "    similar_movies = cosine_similarity(train_sparse_matrix[:,movie].T, train_sparse_matrix.T).ravel()\n",
    "    similar_movies_indices = np.argsort(-similar_movies)[1:]\n",
    "    similar_movies_ratings = train_sparse_matrix[user, similar_movies_indices].toarray().ravel()\n",
    "    top_similar_movie_ratings = list(similar_movies_ratings[similar_movies_ratings != 0][:5])\n",
    "    top_similar_movie_ratings.extend([AvgRatingUser[user]]*(5-len(top_similar_movie_ratings)))\n",
    "    #above line means that if top 5 ratings are not available then rest of the ratings will be filled by \"user\" average\n",
    "    #rating. Let say only 3 out of 5 ratings are available then rest 2 will be \"user\" average rating.\n",
    "    row.extend(top_similar_movie_ratings)\n",
    "\n",
    "  except (IndexError, KeyError):\n",
    "        global_average_train_rating = [train_sparse_matrix.sum()/train_sparse_matrix.count_nonzero()]*5\n",
    "        row.extend(global_average_train_rating)\n",
    "  except:\n",
    "    raise   \n",
    " #------------------------------Appending \"user\" average, \"movie\" average & rating of \"user\"\"movie\"-----------#\n",
    "  try:\n",
    "    row.append(AvgRatingUser[user])\n",
    "  except (KeyError):\n",
    "    global_average_train_rating = train_sparse_matrix.sum()/train_sparse_matrix.count_nonzero()\n",
    "    row.append(global_average_train_rating) \n",
    "  except:\n",
    "    raise\n",
    "  try:    \n",
    "    row.append(AvgRatingMovie[movie])\n",
    "  except (KeyError):\n",
    "    global_average_train_rating = train_sparse_matrix.sum()/train_sparse_matrix.count_nonzero()\n",
    "    row.append(global_average_train_rating) \n",
    "  except:\n",
    "    raise\n",
    "\n",
    "  row.append(rating)\n",
    "            \n",
    "#-----------------------------------Converting rows and appending them as comma separated values to csv file------#\n",
    "            #data.write(\",\".join(map(str, row)))\n",
    "            #data.write(\"\\n\")\n",
    "  Test_Reg.loc[count]=row\n",
    "    \n",
    "  count += 1\n",
    "  if count % 5000 == 0:\n",
    "    print(\"Done for {}. Time elapsed: {}\".format(count, (datetime.now() - startTime)))\n",
    "                \n",
    "print(\"Total Time for {} rows = {}\".format(len(test_ratings), (datetime.now() - startTime)))"
   ]
  },
  {
   "cell_type": "code",
   "execution_count": 31,
   "metadata": {
    "colab": {
     "base_uri": "https://localhost:8080/",
     "height": 206
    },
    "id": "RYcxECVz0d83",
    "outputId": "02173e5d-7a95-4161-cb1f-0571e12ed165"
   },
   "outputs": [
    {
     "data": {
      "text/html": [
       "<div>\n",
       "<style scoped>\n",
       "    .dataframe tbody tr th:only-of-type {\n",
       "        vertical-align: middle;\n",
       "    }\n",
       "\n",
       "    .dataframe tbody tr th {\n",
       "        vertical-align: top;\n",
       "    }\n",
       "\n",
       "    .dataframe thead th {\n",
       "        text-align: right;\n",
       "    }\n",
       "</style>\n",
       "<table border=\"1\" class=\"dataframe\">\n",
       "  <thead>\n",
       "    <tr style=\"text-align: right;\">\n",
       "      <th></th>\n",
       "      <th>User_ID</th>\n",
       "      <th>Movie_ID</th>\n",
       "      <th>Global_Average</th>\n",
       "      <th>SMR1</th>\n",
       "      <th>SMR2</th>\n",
       "      <th>SMR3</th>\n",
       "      <th>SMR4</th>\n",
       "      <th>SMR5</th>\n",
       "      <th>User_Average</th>\n",
       "      <th>Movie_Average</th>\n",
       "      <th>Rating</th>\n",
       "    </tr>\n",
       "  </thead>\n",
       "  <tbody>\n",
       "    <tr>\n",
       "      <th>0</th>\n",
       "      <td>1527612.0</td>\n",
       "      <td>8.0</td>\n",
       "      <td>3.602026</td>\n",
       "      <td>3.602026</td>\n",
       "      <td>3.602026</td>\n",
       "      <td>3.602026</td>\n",
       "      <td>3.602026</td>\n",
       "      <td>3.602026</td>\n",
       "      <td>3.602026</td>\n",
       "      <td>3.176471</td>\n",
       "      <td>1.0</td>\n",
       "    </tr>\n",
       "    <tr>\n",
       "      <th>1</th>\n",
       "      <td>716874.0</td>\n",
       "      <td>12.0</td>\n",
       "      <td>3.602026</td>\n",
       "      <td>5.000000</td>\n",
       "      <td>5.000000</td>\n",
       "      <td>5.000000</td>\n",
       "      <td>5.000000</td>\n",
       "      <td>5.000000</td>\n",
       "      <td>4.416667</td>\n",
       "      <td>3.602026</td>\n",
       "      <td>3.0</td>\n",
       "    </tr>\n",
       "    <tr>\n",
       "      <th>2</th>\n",
       "      <td>630964.0</td>\n",
       "      <td>17.0</td>\n",
       "      <td>3.602026</td>\n",
       "      <td>3.000000</td>\n",
       "      <td>4.000000</td>\n",
       "      <td>5.000000</td>\n",
       "      <td>4.000000</td>\n",
       "      <td>4.000000</td>\n",
       "      <td>4.000000</td>\n",
       "      <td>3.000000</td>\n",
       "      <td>3.0</td>\n",
       "    </tr>\n",
       "    <tr>\n",
       "      <th>3</th>\n",
       "      <td>2630187.0</td>\n",
       "      <td>17.0</td>\n",
       "      <td>3.602026</td>\n",
       "      <td>3.602026</td>\n",
       "      <td>3.602026</td>\n",
       "      <td>3.602026</td>\n",
       "      <td>3.602026</td>\n",
       "      <td>3.602026</td>\n",
       "      <td>3.602026</td>\n",
       "      <td>3.000000</td>\n",
       "      <td>5.0</td>\n",
       "    </tr>\n",
       "    <tr>\n",
       "      <th>4</th>\n",
       "      <td>987574.0</td>\n",
       "      <td>18.0</td>\n",
       "      <td>3.602026</td>\n",
       "      <td>5.000000</td>\n",
       "      <td>3.000000</td>\n",
       "      <td>5.000000</td>\n",
       "      <td>4.333333</td>\n",
       "      <td>4.333333</td>\n",
       "      <td>4.333333</td>\n",
       "      <td>3.500000</td>\n",
       "      <td>5.0</td>\n",
       "    </tr>\n",
       "  </tbody>\n",
       "</table>\n",
       "</div>"
      ],
      "text/plain": [
       "     User_ID  Movie_ID  Global_Average  ...  User_Average  Movie_Average  Rating\n",
       "0  1527612.0       8.0        3.602026  ...      3.602026       3.176471     1.0\n",
       "1   716874.0      12.0        3.602026  ...      4.416667       3.602026     3.0\n",
       "2   630964.0      17.0        3.602026  ...      4.000000       3.000000     3.0\n",
       "3  2630187.0      17.0        3.602026  ...      3.602026       3.000000     5.0\n",
       "4   987574.0      18.0        3.602026  ...      4.333333       3.500000     5.0\n",
       "\n",
       "[5 rows x 11 columns]"
      ]
     },
     "execution_count": 31,
     "metadata": {},
     "output_type": "execute_result"
    }
   ],
   "source": [
    "Test_Reg.head()"
   ]
  },
  {
   "cell_type": "code",
   "execution_count": 32,
   "metadata": {
    "colab": {
     "base_uri": "https://localhost:8080/"
    },
    "id": "Wk5NoMbZ0eeK",
    "outputId": "f992b71c-6f8d-4c3f-f8d2-9053b39d13b1"
   },
   "outputs": [
    {
     "name": "stdout",
     "output_type": "stream",
     "text": [
      "Number of nan Values = 0\n"
     ]
    }
   ],
   "source": [
    "print(\"Number of nan Values = \"+str(Test_Reg.isnull().sum().sum()))"
   ]
  },
  {
   "cell_type": "code",
   "execution_count": 33,
   "metadata": {
    "colab": {
     "base_uri": "https://localhost:8080/"
    },
    "id": "_Aa5X1ED0fJI",
    "outputId": "bfd1afa5-b3f7-4b23-bf01-4d33c1556b58"
   },
   "outputs": [
    {
     "name": "stdout",
     "output_type": "stream",
     "text": [
      "Shape of Test DataFrame = (10000, 11)\n"
     ]
    }
   ],
   "source": [
    "print(\"Shape of Test DataFrame = {}\".format(Test_Reg.shape))"
   ]
  },
  {
   "cell_type": "code",
   "execution_count": 34,
   "metadata": {
    "colab": {
     "base_uri": "https://localhost:8080/"
    },
    "id": "s-ssjtS8RrlM",
    "outputId": "147c24e2-b7c0-49a7-c92c-0ecfb261c5e4"
   },
   "outputs": [
    {
     "name": "stdout",
     "output_type": "stream",
     "text": [
      "[19:10:09] WARNING: /workspace/src/objective/regression_obj.cu:152: reg:linear is now deprecated in favor of reg:squarederror.\n",
      "--------------------------------------------------\n",
      "TRAIN DATA\n",
      "RMSE = 0.3061093208664328\n",
      "MAPE = 6.617242706350111\n",
      "--------------------------------------------------\n",
      "TEST DATA\n",
      "RMSE = 1.18310776741203\n",
      "MAPE = 29.044840307259967\n",
      "--------------------------------------------------\n"
     ]
    }
   ],
   "source": [
    "# prepare train data\n",
    "x_train = Train_Reg.drop([\"User_ID\", \"Movie_ID\", \"Rating\"], axis = 1)\n",
    "y_train = Train_Reg[\"Rating\"]\n",
    "\n",
    "# prepare train data\n",
    "x_test = Test_Reg.drop([\"User_ID\", \"Movie_ID\", \"Rating\"], axis = 1)\n",
    "y_test = Test_Reg[\"Rating\"]\n",
    "\n",
    "# initialize XGBoost model\n",
    "xgb_model = xgb.XGBRegressor(silent=False, n_jobs=10,n_estimators=100)\n",
    "# fit the model\n",
    "xgb_model.fit(x_train, y_train)\n",
    "# get predictions for for train dataset \n",
    "y_pred_train = xgb_model.predict(x_train)\n",
    "\n",
    "rmse_train = np.sqrt(mean_squared_error(y_train, y_pred_train))\n",
    "mape_train = np.mean(abs((y_train - y_pred_train)/y_train))*100\n",
    "\n",
    "print(\"-\"*50)\n",
    "print(\"TRAIN DATA\")\n",
    "print(\"RMSE = {}\".format(rmse_train))\n",
    "print(\"MAPE = {}\".format(mape_train))\n",
    "print(\"-\"*50)\n",
    "\n",
    "# from the trained model, get the predictions\n",
    "y_pred_test = xgb_model.predict(x_test)\n",
    "\n",
    "rmse_test = np.sqrt(mean_squared_error(y_test, y_pred_test))\n",
    "mape_test = np.mean(abs((y_test - y_pred_test)/y_pred_test))*100\n",
    "\n",
    "print(\"TEST DATA\")\n",
    "print(\"RMSE = {}\".format(rmse_test))\n",
    "print(\"MAPE = {}\".format(mape_test))\n",
    "print(\"-\"*50)"
   ]
  },
  {
   "cell_type": "code",
   "execution_count": 35,
   "metadata": {
    "colab": {
     "base_uri": "https://localhost:8080/",
     "height": 529
    },
    "id": "D5ok05Ompq6u",
    "outputId": "3c6f277b-57be-45d5-f515-c197426f32a7"
   },
   "outputs": [
    {
     "data": {
      "image/png": "[encoded data removed]",
      "text/plain": [
       "<Figure size 576x432 with 1 Axes>"
      ]
     },
     "metadata": {
      "needs_background": "light"
     },
     "output_type": "display_data"
    }
   ],
   "source": [
    "def plot_importance(model, clf):\n",
    "    fig = plt.figure(figsize = (8, 6))\n",
    "    ax = fig.add_axes([0,0,1,1])\n",
    "    model.plot_importance(clf, ax = ax, height = 0.3)\n",
    "    plt.xlabel(\"F Score\", fontsize = 20)\n",
    "    plt.ylabel(\"Features\", fontsize = 20)\n",
    "    plt.title(\"Feature Importance\", fontsize = 20)\n",
    "    plt.tick_params(labelsize = 15)\n",
    "    \n",
    "    plt.show()\n",
    "\n",
    "plot_importance(xgb,xgb_model)\n"
   ]
  },
  {
   "cell_type": "code",
   "execution_count": 35,
   "metadata": {
    "id": "p0wrVgGdlpmn"
   },
   "outputs": [],
   "source": []
  }
 ],
 "metadata": {
  "colab": {
   "collapsed_sections": [],
   "machine_shape": "hm",
   "name": "Netflix XGBoost Model",
   "provenance": []
  },
  "kernelspec": {
   "display_name": "Python 3 (ipykernel)",
   "language": "python",
   "name": "python3"
  },
  "language_info": {
   "codemirror_mode": {
    "name": "ipython",
    "version": 3
   },
   "file_extension": ".py",
   "mimetype": "text/x-python",
   "name": "python",
   "nbconvert_exporter": "python",
   "pygments_lexer": "ipython3",
   "version": "3.8.8"
  }
 },
 "nbformat": 4,
 "nbformat_minor": 1
}
