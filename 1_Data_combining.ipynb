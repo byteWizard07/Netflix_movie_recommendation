{
 "cells": [
  {
   "cell_type": "code",
   "execution_count": null,
   "metadata": {
    "colab": {
     "base_uri": "https://localhost:8080/"
    },
    "id": "Ar-3ueU21MEZ",
    "outputId": "0c5f8d05-bf1b-440e-e7c9-113ea5b88557"
   },
   "outputs": [
    {
     "name": "stdout",
     "output_type": "stream",
     "text": [
      "Drive already mounted at /content/drive; to attempt to forcibly remount, call drive.mount(\"/content/drive\", force_remount=True).\n"
     ]
    }
   ],
   "source": [
    "from google.colab import drive\n",
    "drive.mount('/content/drive')"
   ]
  },
  {
   "cell_type": "code",
   "execution_count": null,
   "metadata": {
    "id": "tAb77yZ9fzMG"
   },
   "outputs": [],
   "source": [
    "from datetime import datetime\n",
    "import pandas as pd\n",
    "import numpy as np\n",
    "import seaborn as sns\n",
    "sns.set_style(\"whitegrid\")\n",
    "import os\n",
    "import random\n",
    "import matplotlib\n",
    "import matplotlib.pyplot as plt\n",
    "from scipy import sparse\n",
    "from sklearn.metrics.pairwise import cosine_similarity\n",
    "from sklearn.metrics import mean_squared_error\n",
    "\n",
    "\n",
    "import xgboost as xgb\n",
    "from surprise import Reader, Dataset\n",
    "from surprise import BaselineOnly\n",
    "from surprise import KNNBaseline\n",
    "from surprise import SVD\n",
    "from surprise import SVDpp\n",
    "from surprise.model_selection import GridSearchCV"
   ]
  },
  {
   "cell_type": "code",
   "execution_count": null,
   "metadata": {
    "colab": {
     "base_uri": "https://localhost:8080/"
    },
    "id": "UkLBqvx1Z0Hm",
    "outputId": "b3ed35b4-af44-4f30-bb0e-a092d9ae6159"
   },
   "outputs": [
    {
     "name": "stdout",
     "output_type": "stream",
     "text": [
      "Reading from file: /content/drive/MyDrive/NetflixProject/Netflix/archive/combined_data_1.txt...\n",
      "Reading of file: /content/drive/MyDrive/NetflixProject/Netflix/archive/combined_data_1.txt is completed\n",
      "\n",
      "Reading from file: /content/drive/MyDrive/NetflixProject/Netflix/archive/combined_data_2.txt...\n",
      "Reading of file: /content/drive/MyDrive/NetflixProject/Netflix/archive/combined_data_2.txt is completed\n",
      "\n",
      "Reading from file: /content/drive/MyDrive/NetflixProject/Netflix/archive/combined_data_3.txt...\n",
      "Reading of file: /content/drive/MyDrive/NetflixProject/Netflix/archive/combined_data_3.txt is completed\n",
      "\n",
      "Reading from file: /content/drive/MyDrive/NetflixProject/Netflix/archive/combined_data_4.txt...\n",
      "Reading of file: /content/drive/MyDrive/NetflixProject/Netflix/archive/combined_data_4.txt is completed\n",
      "\n",
      "Total time taken for execution of this code = 0:03:03.509629\n"
     ]
    }
   ],
   "source": [
    "if not os.path.isfile(\"/content/drive/MyDrive/NetflixProject/Netflix/archive\"): \n",
    "#This line: \"os.path.isfile(\"../Data/NetflixRatings.csv\")\" simply checks that is there a file with the name \"NetflixRatings.csv\" in the \n",
    "#in the folder \"/Data/\". If the file is present then it return true else false\n",
    "    startTime = datetime.now()\n",
    "    data = open(\"/content/drive/MyDrive/NetflixProject/Netflix/archive/NetflixRatings.csv\", mode = \"w\") #this line simply creates the file with the name \"NetflixRatings.csv\" in \n",
    "    #write mode in the folder \"Data\".\n",
    "#     files = ['../Data/combined_data_1.txt','../Data/combined_data_2.txt', '../Data/combined_data_3.txt', '../Data/combined_data_4.txt']\n",
    "    files = ['/content/drive/MyDrive/NetflixProject/Netflix/archive/combined_data_1.txt','/content/drive/MyDrive/NetflixProject/Netflix/archive/combined_data_2.txt',\n",
    "             '/content/drive/MyDrive/NetflixProject/Netflix/archive/combined_data_3.txt', '/content/drive/MyDrive/NetflixProject/Netflix/archive/combined_data_4.txt']\n",
    "    for file in files:\n",
    "        print(\"Reading from file: \"+str(file)+\"...\")\n",
    "        with open(file) as f:  #you can think of this command \"with open(file) as f\" as similar to 'if' statement or a sort of \n",
    "            #loop statement. This command says that as long as this file is opened, perform the underneath operation.\n",
    "            for line in f:\n",
    "                line = line.strip() #line.strip() clears all the leading and trailing spaces from the string, as here each line\n",
    "                #that we are reading from a file is a string.\n",
    "                #Note first line consist of a movie id followed by a semi-colon, then second line contains custID,rating,date\n",
    "                #then third line agains contains custID,rating,date which belong to that movie ID and so on. The format of data\n",
    "                #is exactly same as shown above with the heading \"Example Data Point\". Check out above.\n",
    "                if line.endswith(\":\"):\n",
    "                    movieID = line.replace(\":\", \"\") #this will remove the trailing semi-colon and return us the leading movie ID.\n",
    "                else:\n",
    "                    #here, in the below code we have first created an empty list with the name \"row \"so that we can insert movie ID \n",
    "                    #at the first position and rest customerID, rating and date in second position. After that we have separated all \n",
    "                    #four namely movieID, custID, rating and date with comma and converted a single string by joining them with comma.\n",
    "                    #then finally written them to our output \".csv\" file.\n",
    "                    row = [] \n",
    "                    row = [x for x in line.split(\",\")] #custID, rating and date are separated by comma\n",
    "                    row.insert(0, movieID)\n",
    "                    data.write(\",\".join(row))\n",
    "                    data.write(\"\\n\")\n",
    "        print(\"Reading of file: \"+str(file)+\" is completed\\n\")\n",
    "    data.close()\n",
    "    print(\"Total time taken for execution of this code = \"+str(datetime.now() - startTime))"
   ]
  },
  {
   "cell_type": "code",
   "execution_count": null,
   "metadata": {
    "colab": {
     "base_uri": "https://localhost:8080/"
    },
    "id": "b9v5GiZXZ3XO",
    "outputId": "cbc484fc-49d7-4889-bb28-c85802ae54aa"
   },
   "outputs": [
    {
     "name": "stdout",
     "output_type": "stream",
     "text": [
      "Time taken for execution of above code = 0:01:38.323984\n"
     ]
    }
   ],
   "source": [
    "# creating data frame from our output csv file.\n",
    "if not os.path.isfile(\"/content/drive/MyDrive/NetflixProject/Netflix/archive/NetflixData.pkl\"):\n",
    "    startTime = datetime.now()\n",
    "    Final_Data = pd.read_csv(\"/content/drive/MyDrive/NetflixProject/Netflix/archive/NetflixRatings.csv\", sep=\",\", names = [\"MovieID\",\"CustID\", \"Ratings\", \"Date\"])\n",
    "    Final_Data[\"Date\"] = pd.to_datetime(Final_Data[\"Date\"])\n",
    "    Final_Data.sort_values(by = \"Date\", inplace = True)\n",
    "    print(\"Time taken for execution of above code = \"+str(datetime.now() - startTime))"
   ]
  },
  {
   "cell_type": "code",
   "execution_count": null,
   "metadata": {
    "id": "SYcdxx05aNXh"
   },
   "outputs": [],
   "source": [
    "# storing pandas dataframe as a picklefile for later use\n",
    "if not os.path.isfile(\"/content/drive/MyDrive/NetflixProject/Netflix/archive/NetflixData.pkl\"):\n",
    "    Final_Data.to_pickle(\"/content/drive/MyDrive/NetflixProject/Netflix/archive/NetflixData.pkl\")\n",
    "else:\n",
    "    Final_Data = pd.read_pickle(\"/content/drive/MyDrive/NetflixProject/Netflix/archive/NetflixData.pkl\")"
   ]
  },
  {
   "cell_type": "code",
   "execution_count": null,
   "metadata": {
    "colab": {
     "base_uri": "https://localhost:8080/"
    },
    "id": "rcvK1qiVaM9G",
    "outputId": "652d71ac-bedf-409a-bddb-4ff8e847c8b1"
   },
   "outputs": [
    {
     "data": {
      "text/plain": [
       "(100480507, 4)"
      ]
     },
     "execution_count": 14,
     "metadata": {},
     "output_type": "execute_result"
    }
   ],
   "source": [
    "Final_Data.shape"
   ]
  },
  {
   "cell_type": "code",
   "execution_count": null,
   "metadata": {
    "colab": {
     "base_uri": "https://localhost:8080/",
     "height": 203
    },
    "id": "fpBP3RBRaLPO",
    "outputId": "d22570d4-3213-4a31-eee6-bd465d9ee85e"
   },
   "outputs": [
    {
     "data": {
      "text/html": [
       "<div>\n",
       "<style scoped>\n",
       "    .dataframe tbody tr th:only-of-type {\n",
       "        vertical-align: middle;\n",
       "    }\n",
       "\n",
       "    .dataframe tbody tr th {\n",
       "        vertical-align: top;\n",
       "    }\n",
       "\n",
       "    .dataframe thead th {\n",
       "        text-align: right;\n",
       "    }\n",
       "</style>\n",
       "<table border=\"1\" class=\"dataframe\">\n",
       "  <thead>\n",
       "    <tr style=\"text-align: right;\">\n",
       "      <th></th>\n",
       "      <th>MovieID</th>\n",
       "      <th>CustID</th>\n",
       "      <th>Ratings</th>\n",
       "      <th>Date</th>\n",
       "    </tr>\n",
       "  </thead>\n",
       "  <tbody>\n",
       "    <tr>\n",
       "      <th>56431994</th>\n",
       "      <td>10341</td>\n",
       "      <td>510180</td>\n",
       "      <td>4</td>\n",
       "      <td>1999-11-11</td>\n",
       "    </tr>\n",
       "    <tr>\n",
       "      <th>9056171</th>\n",
       "      <td>1798</td>\n",
       "      <td>510180</td>\n",
       "      <td>5</td>\n",
       "      <td>1999-11-11</td>\n",
       "    </tr>\n",
       "    <tr>\n",
       "      <th>58698779</th>\n",
       "      <td>10774</td>\n",
       "      <td>510180</td>\n",
       "      <td>3</td>\n",
       "      <td>1999-11-11</td>\n",
       "    </tr>\n",
       "    <tr>\n",
       "      <th>48101611</th>\n",
       "      <td>8651</td>\n",
       "      <td>510180</td>\n",
       "      <td>2</td>\n",
       "      <td>1999-11-11</td>\n",
       "    </tr>\n",
       "    <tr>\n",
       "      <th>81893208</th>\n",
       "      <td>14660</td>\n",
       "      <td>510180</td>\n",
       "      <td>2</td>\n",
       "      <td>1999-11-11</td>\n",
       "    </tr>\n",
       "  </tbody>\n",
       "</table>\n",
       "</div>"
      ],
      "text/plain": [
       "          MovieID  CustID  Ratings       Date\n",
       "56431994    10341  510180        4 1999-11-11\n",
       "9056171      1798  510180        5 1999-11-11\n",
       "58698779    10774  510180        3 1999-11-11\n",
       "48101611     8651  510180        2 1999-11-11\n",
       "81893208    14660  510180        2 1999-11-11"
      ]
     },
     "execution_count": 15,
     "metadata": {},
     "output_type": "execute_result"
    }
   ],
   "source": [
    "Final_Data.head()"
   ]
  },
  {
   "cell_type": "code",
   "execution_count": null,
   "metadata": {
    "id": "0nRALgd4aNKT"
   },
   "outputs": [],
   "source": []
  }
 ],
 "metadata": {
  "accelerator": "TPU",
  "colab": {
   "collapsed_sections": [],
   "machine_shape": "hm",
   "name": "Data combining",
   "provenance": []
  },
  "kernelspec": {
   "display_name": "Python 3 (ipykernel)",
   "language": "python",
   "name": "python3"
  },
  "language_info": {
   "codemirror_mode": {
    "name": "ipython",
    "version": 3
   },
   "file_extension": ".py",
   "mimetype": "text/x-python",
   "name": "python",
   "nbconvert_exporter": "python",
   "pygments_lexer": "ipython3",
   "version": "3.8.8"
  }
 },
 "nbformat": 4,
 "nbformat_minor": 1
}
