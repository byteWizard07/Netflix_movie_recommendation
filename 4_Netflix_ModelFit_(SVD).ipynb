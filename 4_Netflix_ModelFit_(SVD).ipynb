{
 "cells": [
  {
   "cell_type": "code",
   "execution_count": 1,
   "metadata": {
    "colab": {
     "base_uri": "https://localhost:8080/"
    },
    "id": "6mUrYQR429Ff",
    "outputId": "8dbb9328-26c7-44a5-a735-312a77e94090"
   },
   "outputs": [
    {
     "name": "stdout",
     "output_type": "stream",
     "text": [
      "Mounted at /content/drive\n"
     ]
    }
   ],
   "source": [
    "from google.colab import drive\n",
    "drive.mount('/content/drive')"
   ]
  },
  {
   "cell_type": "code",
   "execution_count": 2,
   "metadata": {
    "colab": {
     "base_uri": "https://localhost:8080/"
    },
    "id": "F6NT2vHxknCe",
    "outputId": "caf68772-bcb4-46bb-eb51-df86702a5cd2"
   },
   "outputs": [
    {
     "name": "stdout",
     "output_type": "stream",
     "text": [
      "Collecting surprise\n",
      "  Downloading surprise-0.1-py2.py3-none-any.whl (1.8 kB)\n",
      "Collecting scikit-surprise\n",
      "  Downloading scikit-surprise-1.1.1.tar.gz (11.8 MB)\n",
      "\u001b[K     |████████████████████████████████| 11.8 MB 5.3 MB/s \n",
      "\u001b[?25hRequirement already satisfied: joblib>=0.11 in /usr/local/lib/python3.7/dist-packages (from scikit-surprise->surprise) (1.0.1)\n",
      "Requirement already satisfied: numpy>=1.11.2 in /usr/local/lib/python3.7/dist-packages (from scikit-surprise->surprise) (1.19.5)\n",
      "Requirement already satisfied: scipy>=1.0.0 in /usr/local/lib/python3.7/dist-packages (from scikit-surprise->surprise) (1.4.1)\n",
      "Requirement already satisfied: six>=1.10.0 in /usr/local/lib/python3.7/dist-packages (from scikit-surprise->surprise) (1.15.0)\n",
      "Building wheels for collected packages: scikit-surprise\n",
      "  Building wheel for scikit-surprise (setup.py) ... \u001b[?25l\u001b[?25hdone\n",
      "  Created wheel for scikit-surprise: filename=scikit_surprise-1.1.1-cp37-cp37m-linux_x86_64.whl size=1619416 sha256=4a8b69f799b5ad219d5a108e67a9133b24661520b5eafc8825658b34a0de7799\n",
      "  Stored in directory: /root/.cache/pip/wheels/76/44/74/b498c42be47b2406bd27994e16c5188e337c657025ab400c1c\n",
      "Successfully built scikit-surprise\n",
      "Installing collected packages: scikit-surprise, surprise\n",
      "Successfully installed scikit-surprise-1.1.1 surprise-0.1\n"
     ]
    }
   ],
   "source": [
    "pip install surprise"
   ]
  },
  {
   "cell_type": "code",
   "execution_count": 3,
   "metadata": {
    "id": "aqmihG9O4ydB"
   },
   "outputs": [],
   "source": [
    "from datetime import datetime\n",
    "import pandas as pd\n",
    "import numpy as np\n",
    "import seaborn as sns\n",
    "sns.set_style(\"whitegrid\")\n",
    "import os\n",
    "import random\n",
    "import matplotlib\n",
    "import matplotlib.pyplot as plt\n",
    "%matplotlib inline\n",
    "from scipy import sparse\n",
    "from sklearn.metrics.pairwise import cosine_similarity\n",
    "from sklearn.metrics import mean_squared_error\n",
    "\n",
    "\n",
    "import xgboost as xgb\n",
    "from surprise import Reader, Dataset\n",
    "from surprise import BaselineOnly\n",
    "from surprise import KNNBaseline\n",
    "from surprise import SVD\n",
    "from surprise import accuracy\n",
    "from surprise import SVDpp\n",
    "from surprise.model_selection import train_test_split\n",
    "from surprise.model_selection import GridSearchCV\n"
   ]
  },
  {
   "cell_type": "code",
   "execution_count": 4,
   "metadata": {
    "id": "G09Sj7XS5jN3"
   },
   "outputs": [],
   "source": [
    "df = pd.read_csv(\"/content/drive/MyDrive/NetflixProject/Netflix/archive/NetflixRatings.csv\", sep=\",\", names = [\"MovieID\",\"CustID\", \"Ratings\", \"Date\"])\n",
    "df[\"Date\"] = pd.to_datetime(df[\"Date\"])\n",
    "df_movie=pd.read_csv('/content/drive/MyDrive/Netflix/Data/additions/updated_movie_titles.csv')\n",
    "\n",
    "ID_values=df_movie[df_movie['Year'].isnull()].ID.values\n",
    "years=[]\n",
    "for i in ID_values:\n",
    "  temp=df[df['MovieID']==i].sort_values('Date').iloc[0]\n",
    "  years.append(temp.Date.year)\n",
    "temp1=df_movie[df_movie['Year'].isnull()]\n",
    "count=0\n",
    "for i in years:\n",
    "  temp1.Year.values[count]=i\n",
    "  count=count+1\n",
    "df_movie.dropna(inplace=True)\n",
    "df_movie=pd.concat([df_movie,temp1])\n",
    "df_movie.sort_index(inplace=True)\n",
    "df_movie.rename(columns = {'ID':'MovieID'}, inplace = True)"
   ]
  },
  {
   "cell_type": "code",
   "execution_count": 5,
   "metadata": {
    "id": "A44ZIVyslZO2"
   },
   "outputs": [],
   "source": [
    "dfnew=df.copy()"
   ]
  },
  {
   "cell_type": "code",
   "execution_count": 6,
   "metadata": {
    "colab": {
     "base_uri": "https://localhost:8080/",
     "height": 206
    },
    "id": "SRf4Z_Izm05W",
    "outputId": "dd224c7f-7c47-4995-d439-382d2a3e8f06"
   },
   "outputs": [
    {
     "data": {
      "text/html": [
       "<div>\n",
       "<style scoped>\n",
       "    .dataframe tbody tr th:only-of-type {\n",
       "        vertical-align: middle;\n",
       "    }\n",
       "\n",
       "    .dataframe tbody tr th {\n",
       "        vertical-align: top;\n",
       "    }\n",
       "\n",
       "    .dataframe thead th {\n",
       "        text-align: right;\n",
       "    }\n",
       "</style>\n",
       "<table border=\"1\" class=\"dataframe\">\n",
       "  <thead>\n",
       "    <tr style=\"text-align: right;\">\n",
       "      <th></th>\n",
       "      <th>MovieID</th>\n",
       "      <th>CustID</th>\n",
       "      <th>Ratings</th>\n",
       "      <th>Date</th>\n",
       "      <th>Year</th>\n",
       "      <th>Name</th>\n",
       "    </tr>\n",
       "  </thead>\n",
       "  <tbody>\n",
       "    <tr>\n",
       "      <th>0</th>\n",
       "      <td>1</td>\n",
       "      <td>1488844</td>\n",
       "      <td>3</td>\n",
       "      <td>2005-09-06</td>\n",
       "      <td>2003.0</td>\n",
       "      <td>Dinosaur Planet</td>\n",
       "    </tr>\n",
       "    <tr>\n",
       "      <th>1</th>\n",
       "      <td>1</td>\n",
       "      <td>822109</td>\n",
       "      <td>5</td>\n",
       "      <td>2005-05-13</td>\n",
       "      <td>2003.0</td>\n",
       "      <td>Dinosaur Planet</td>\n",
       "    </tr>\n",
       "    <tr>\n",
       "      <th>2</th>\n",
       "      <td>1</td>\n",
       "      <td>885013</td>\n",
       "      <td>4</td>\n",
       "      <td>2005-10-19</td>\n",
       "      <td>2003.0</td>\n",
       "      <td>Dinosaur Planet</td>\n",
       "    </tr>\n",
       "    <tr>\n",
       "      <th>3</th>\n",
       "      <td>1</td>\n",
       "      <td>30878</td>\n",
       "      <td>4</td>\n",
       "      <td>2005-12-26</td>\n",
       "      <td>2003.0</td>\n",
       "      <td>Dinosaur Planet</td>\n",
       "    </tr>\n",
       "    <tr>\n",
       "      <th>4</th>\n",
       "      <td>1</td>\n",
       "      <td>823519</td>\n",
       "      <td>3</td>\n",
       "      <td>2004-05-03</td>\n",
       "      <td>2003.0</td>\n",
       "      <td>Dinosaur Planet</td>\n",
       "    </tr>\n",
       "  </tbody>\n",
       "</table>\n",
       "</div>"
      ],
      "text/plain": [
       "   MovieID   CustID  Ratings       Date    Year             Name\n",
       "0        1  1488844        3 2005-09-06  2003.0  Dinosaur Planet\n",
       "1        1   822109        5 2005-05-13  2003.0  Dinosaur Planet\n",
       "2        1   885013        4 2005-10-19  2003.0  Dinosaur Planet\n",
       "3        1    30878        4 2005-12-26  2003.0  Dinosaur Planet\n",
       "4        1   823519        3 2004-05-03  2003.0  Dinosaur Planet"
      ]
     },
     "execution_count": 6,
     "metadata": {},
     "output_type": "execute_result"
    }
   ],
   "source": [
    "dfnew=dfnew.merge(df_movie,on='MovieID')\n",
    "dfnew.head()"
   ]
  },
  {
   "cell_type": "code",
   "execution_count": 7,
   "metadata": {
    "id": "0obUh37uDbbe"
   },
   "outputs": [],
   "source": [
    "from sklearn.model_selection import train_test_split"
   ]
  },
  {
   "cell_type": "code",
   "execution_count": 8,
   "metadata": {
    "id": "fo8NhDgW7qpD"
   },
   "outputs": [],
   "source": [
    "data_sample=dfnew.sample(30000000)"
   ]
  },
  {
   "cell_type": "code",
   "execution_count": 9,
   "metadata": {
    "id": "mLDB5FCcD4KJ"
   },
   "outputs": [],
   "source": [
    "train,test = train_test_split(data_sample[['CustID','MovieID','Ratings']], test_size=0.3)"
   ]
  },
  {
   "cell_type": "code",
   "execution_count": 10,
   "metadata": {
    "colab": {
     "base_uri": "https://localhost:8080/"
    },
    "id": "S04-C0T6FnY2",
    "outputId": "eecf259e-770b-4570-a2fa-4512ebb88286"
   },
   "outputs": [
    {
     "data": {
      "text/plain": [
       "(21000000, 3)"
      ]
     },
     "execution_count": 10,
     "metadata": {},
     "output_type": "execute_result"
    }
   ],
   "source": [
    "train.shape"
   ]
  },
  {
   "cell_type": "code",
   "execution_count": 11,
   "metadata": {
    "colab": {
     "base_uri": "https://localhost:8080/"
    },
    "id": "eUpMswudGNan",
    "outputId": "47ca4bc2-7d7b-441d-df00-6d5f4083bb91"
   },
   "outputs": [
    {
     "data": {
      "text/plain": [
       "(9000000, 3)"
      ]
     },
     "execution_count": 11,
     "metadata": {},
     "output_type": "execute_result"
    }
   ],
   "source": [
    "test.shape"
   ]
  },
  {
   "cell_type": "code",
   "execution_count": 12,
   "metadata": {
    "colab": {
     "base_uri": "https://localhost:8080/",
     "height": 206
    },
    "id": "3MRrV6UjGS1z",
    "outputId": "53dfea26-12e2-4b4b-9c81-1bc5ba7e3273"
   },
   "outputs": [
    {
     "data": {
      "text/html": [
       "<div>\n",
       "<style scoped>\n",
       "    .dataframe tbody tr th:only-of-type {\n",
       "        vertical-align: middle;\n",
       "    }\n",
       "\n",
       "    .dataframe tbody tr th {\n",
       "        vertical-align: top;\n",
       "    }\n",
       "\n",
       "    .dataframe thead th {\n",
       "        text-align: right;\n",
       "    }\n",
       "</style>\n",
       "<table border=\"1\" class=\"dataframe\">\n",
       "  <thead>\n",
       "    <tr style=\"text-align: right;\">\n",
       "      <th></th>\n",
       "      <th>CustID</th>\n",
       "      <th>MovieID</th>\n",
       "      <th>Ratings</th>\n",
       "    </tr>\n",
       "  </thead>\n",
       "  <tbody>\n",
       "    <tr>\n",
       "      <th>70257360</th>\n",
       "      <td>815079</td>\n",
       "      <td>12732</td>\n",
       "      <td>5</td>\n",
       "    </tr>\n",
       "    <tr>\n",
       "      <th>53400632</th>\n",
       "      <td>974317</td>\n",
       "      <td>9728</td>\n",
       "      <td>2</td>\n",
       "    </tr>\n",
       "    <tr>\n",
       "      <th>40572998</th>\n",
       "      <td>1635135</td>\n",
       "      <td>7193</td>\n",
       "      <td>3</td>\n",
       "    </tr>\n",
       "    <tr>\n",
       "      <th>43982736</th>\n",
       "      <td>2172301</td>\n",
       "      <td>7763</td>\n",
       "      <td>4</td>\n",
       "    </tr>\n",
       "    <tr>\n",
       "      <th>92284896</th>\n",
       "      <td>1398961</td>\n",
       "      <td>16377</td>\n",
       "      <td>4</td>\n",
       "    </tr>\n",
       "  </tbody>\n",
       "</table>\n",
       "</div>"
      ],
      "text/plain": [
       "           CustID  MovieID  Ratings\n",
       "70257360   815079    12732        5\n",
       "53400632   974317     9728        2\n",
       "40572998  1635135     7193        3\n",
       "43982736  2172301     7763        4\n",
       "92284896  1398961    16377        4"
      ]
     },
     "execution_count": 12,
     "metadata": {},
     "output_type": "execute_result"
    }
   ],
   "source": [
    "train.head()"
   ]
  },
  {
   "cell_type": "code",
   "execution_count": 13,
   "metadata": {
    "id": "vFF50y9RrAlB"
   },
   "outputs": [],
   "source": [
    "reader = Reader(rating_scale=(1,5))\n",
    "# create the traindata from the data frame\n",
    "train_data_mf = Dataset.load_from_df(train[['CustID', 'MovieID', 'Ratings']], reader)\n",
    "\n",
    "# build the train set from traindata.\n",
    "#It is of dataset format from surprise library\n",
    "trainset = train_data_mf.build_full_trainset()"
   ]
  },
  {
   "cell_type": "code",
   "execution_count": 14,
   "metadata": {
    "id": "R-1S5AhVrAlB"
   },
   "outputs": [],
   "source": [
    "testset = list(zip(test[\"CustID\"].values, test[\"MovieID\"].values, test[\"Ratings\"].values))"
   ]
  },
  {
   "cell_type": "code",
   "execution_count": 15,
   "metadata": {
    "colab": {
     "base_uri": "https://localhost:8080/"
    },
    "id": "K10r7f2v5i_p",
    "outputId": "1d83369d-dbe7-4b29-fee5-26876869ac5d"
   },
   "outputs": [
    {
     "data": {
      "text/plain": [
       "[(1251005, 9757, 5),\n",
       " (1235309, 14364, 5),\n",
       " (710029, 11677, 4),\n",
       " (716034, 5671, 4),\n",
       " (235224, 16357, 5)]"
      ]
     },
     "execution_count": 15,
     "metadata": {},
     "output_type": "execute_result"
    }
   ],
   "source": [
    "testset[:5]"
   ]
  },
  {
   "cell_type": "code",
   "execution_count": 16,
   "metadata": {
    "id": "Q6GxV1zzRePA"
   },
   "outputs": [],
   "source": [
    "model_train_evaluation = dict()\n",
    "model_test_evaluation = dict()\n",
    "\n",
    "def get_ratings(predictions):\n",
    "    actual = np.array([pred.r_ui for pred in predictions])\n",
    "    predicted = np.array([pred.est for pred in predictions])\n",
    "    return actual, predicted\n",
    "\n",
    "def get_error(predictions):\n",
    "    actual, predicted = get_ratings(predictions)\n",
    "    rmse = np.sqrt(mean_squared_error(actual, predicted)) \n",
    "    mape = np.mean(abs((actual - predicted)/actual))*100\n",
    "    return rmse, mape\n",
    "\n",
    "my_seed = 15\n",
    "random.seed(my_seed)\n",
    "np.random.seed(my_seed)\n",
    "\n",
    "def run_surprise(algo, trainset, testset, model_name):\n",
    "    startTime = datetime.now()\n",
    "    \n",
    "    train = dict()\n",
    "    test = dict()\n",
    "    \n",
    "    algo.fit(trainset)\n",
    "    \n",
    "    print(\"-\"*50)\n",
    "    print(\"TRAIN DATA\")\n",
    "    train_pred = algo.test(trainset.build_testset())\n",
    "    \n",
    "#-----------------Evaluating Train Data------------------#\n",
    "    train_actual, train_predicted = get_ratings(train_pred)\n",
    "    train_rmse, train_mape = get_error(train_pred)\n",
    "    print(\"RMSE = {}\".format(train_rmse))\n",
    "    print(\"MAPE = {}\".format(train_mape))\n",
    "    print(\"-\"*50)\n",
    "    train = {\"RMSE\": train_rmse, \"MAPE\": train_mape, \"Prediction\": train_predicted}\n",
    "    \n",
    "#-----------------Evaluating Test Data------------------#\n",
    "    print(\"TEST DATA\")\n",
    "    test_pred = algo.test(testset)\n",
    "    \n",
    "    test_actual, test_predicted = get_ratings(test_pred)\n",
    "    test_rmse, test_mape = get_error(test_pred)\n",
    "    print(\"RMSE = {}\".format(test_rmse))\n",
    "    print(\"MAPE = {}\".format(test_mape))\n",
    "    print(\"-\"*50)\n",
    "    test = {\"RMSE\": test_rmse, \"MAPE\": test_mape, \"Prediction\": test_predicted}\n",
    "    \n",
    "    print(\"Time Taken = \"+str(datetime.now() - startTime))\n",
    "    \n",
    "    #make_table(model_name, train_rmse, train_mape, test_rmse, test_mape)\n",
    "    \n",
    "    return train, test"
   ]
  },
  {
   "cell_type": "code",
   "execution_count": 17,
   "metadata": {
    "id": "qxTKYUgcIiFr"
   },
   "outputs": [],
   "source": [
    "\n",
    "#param_grid  = {'n_factors': [5,7,10,15,20,25,35,50,70,90]}   #here, n_factors is the equivalent to dimension 'd' when matrix 'A'\n",
    "#is broken into 'b' and 'c'. So, matrix 'A' will be of dimension n*m. So, matrices 'b' and 'c' will be of dimension n*d and m*d.\n",
    "\n",
    "#gs = GridSearchCV(SVD, param_grid, measures=['rmse', 'mae'], cv=3)\n",
    "\n",
    "#gs.fit(train_data_mf)\n",
    "\n",
    "# best RMSE score\n",
    "#print(gs.best_score['rmse'])\n",
    "\n",
    "# combination of parameters that gave the best RMSE score\n",
    "#print(gs.best_params['rmse'])\n"
   ]
  },
  {
   "cell_type": "code",
   "execution_count": 18,
   "metadata": {
    "colab": {
     "base_uri": "https://localhost:8080/"
    },
    "id": "c9_Na3OICZ9c",
    "outputId": "9dd0be81-ece0-4a9b-f39f-bc4c7067cf17"
   },
   "outputs": [
    {
     "name": "stdout",
     "output_type": "stream",
     "text": [
      "Processing epoch 0\n",
      "Processing epoch 1\n",
      "Processing epoch 2\n",
      "Processing epoch 3\n",
      "Processing epoch 4\n",
      "Processing epoch 5\n",
      "Processing epoch 6\n",
      "Processing epoch 7\n",
      "Processing epoch 8\n",
      "Processing epoch 9\n",
      "Processing epoch 10\n",
      "Processing epoch 11\n",
      "Processing epoch 12\n",
      "Processing epoch 13\n",
      "Processing epoch 14\n",
      "Processing epoch 15\n",
      "Processing epoch 16\n",
      "Processing epoch 17\n",
      "Processing epoch 18\n",
      "Processing epoch 19\n",
      "--------------------------------------------------\n",
      "TRAIN DATA\n",
      "RMSE = 0.7204859116599033\n",
      "MAPE = 21.446647138618097\n",
      "--------------------------------------------------\n",
      "TEST DATA\n",
      "RMSE = 0.9002603029889283\n",
      "MAPE = 27.11465518280302\n",
      "--------------------------------------------------\n",
      "Time Taken = 0:26:36.445206\n"
     ]
    }
   ],
   "source": [
    "#data_sample=dfnew.sample(30000000)\n",
    "#train,test = train_test_split(data_sample[['CustID','MovieID','Ratings']], test_size=0.3)\n",
    "algo = SVD(n_factors=100,n_epochs=20,biased=True, random_state=15, verbose=True)\n",
    "\n",
    "train_result, test_result = run_surprise(algo, trainset, testset, \"SVD\")\n",
    "\n",
    "model_train_evaluation[\"SVD\"] = train_result\n",
    "model_test_evaluation[\"SVD\"] = test_result"
   ]
  },
  {
   "cell_type": "code",
   "execution_count": 18,
   "metadata": {
    "id": "1-zacuEVdjNs"
   },
   "outputs": [],
   "source": []
  }
 ],
 "metadata": {
  "accelerator": "TPU",
  "colab": {
   "collapsed_sections": [],
   "machine_shape": "hm",
   "name": "Netflix ModelFit (SVD)",
   "provenance": []
  },
  "kernelspec": {
   "display_name": "Python 3 (ipykernel)",
   "language": "python",
   "name": "python3"
  },
  "language_info": {
   "codemirror_mode": {
    "name": "ipython",
    "version": 3
   },
   "file_extension": ".py",
   "mimetype": "text/x-python",
   "name": "python",
   "nbconvert_exporter": "python",
   "pygments_lexer": "ipython3",
   "version": "3.8.8"
  }
 },
 "nbformat": 4,
 "nbformat_minor": 1
}
